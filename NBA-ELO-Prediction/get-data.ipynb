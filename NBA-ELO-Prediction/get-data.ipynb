{
 "cells": [
  {
   "cell_type": "code",
   "execution_count": 2,
   "metadata": {},
   "outputs": [],
   "source": [
    "import requests\n",
    "import os\n",
    "import pandas as pd\n",
    "import time"
   ]
  },
  {
   "cell_type": "markdown",
   "metadata": {},
   "source": [
    "# Call API function"
   ]
  },
  {
   "cell_type": "code",
   "execution_count": 3,
   "metadata": {},
   "outputs": [],
   "source": [
    "def get_json_data(Season):\n",
    "    MeasureType = 'Base'\n",
    "    SeasonTypes = ['Pre%20Season','PlayIn','Playoffs','Regular%20Season']\n",
    "    headers= {'user-agent': 'Mozilla/5.0 (Windows NT 10.0; Win64; x64) AppleWebKit/537.36 (KHTML, like Gecko) Chrome/96.0.4664.110 Safari/537.36',\n",
    "              'Referer': 'https://www.nba.com/'}\n",
    "    res_list = []\n",
    "    for SeasonType in SeasonTypes:\n",
    "        print(Season,SeasonType,MeasureType)\n",
    "        url = f'https://stats.nba.com/stats/teamgamelogs?DateFrom=&DateTo=&GameSegment=&ISTRound=&LastNGames=0&LeagueID=00&Location=&MeasureType={MeasureType}&Month=0&OpponentTeamID=0&Outcome=&PORound=0&PaceAdjust=N&PerMode=Totals&Period=0&PlusMinus=N&Rank=N&Season={Season}&SeasonSegment=&SeasonType={SeasonType}&ShotClockRange=&VsConference=&VsDivision='\n",
    "\n",
    "        reps = requests.get(url, headers=headers)\n",
    "        if reps.status_code == 200:\n",
    "            jsonData = reps.json()\n",
    "\n",
    "            rows = jsonData['resultSets'][0]['rowSet']\n",
    "            columns = jsonData['resultSets'][0]['headers']\n",
    "\n",
    "            res = pd.DataFrame(rows, columns=columns)\n",
    "            res = res[[x for x in res.columns if 'RANK' not in x]]\n",
    "            res.drop(columns=['AVAILABLE_FLAG'],inplace=True)\n",
    "            res['season_type'] = SeasonType.replace(\"%20\",\" \")\n",
    "            res_list.append(res)\n",
    "        else:\n",
    "            print('error')\n",
    "            reps.raise_for_status()\n",
    "        time.sleep(1)\n",
    "\n",
    "    return pd.concat(res_list)"
   ]
  },
  {
   "cell_type": "markdown",
   "metadata": {},
   "source": [
    "# Get List of Seasons"
   ]
  },
  {
   "cell_type": "code",
   "execution_count": 4,
   "metadata": {},
   "outputs": [],
   "source": [
    "def format_season(x):\n",
    "    second = str(int(str(x)[-2:]) + 1)[-2:]\n",
    "    if len(second) <2:\n",
    "        second = '0'+second\n",
    "    return str(x) + '-' + second\n",
    "\n",
    "seasons = [format_season(x) for x in range(1996,2024)]"
   ]
  },
  {
   "cell_type": "markdown",
   "metadata": {},
   "source": [
    "# Get the Data"
   ]
  },
  {
   "cell_type": "code",
   "execution_count": 5,
   "metadata": {},
   "outputs": [
    {
     "data": {
      "text/plain": [
       "[]"
      ]
     },
     "execution_count": 5,
     "metadata": {},
     "output_type": "execute_result"
    }
   ],
   "source": [
    "# check folder for seasons already present\n",
    "available_seasons = [x for x in os.listdir('data') if x.endswith('.csv')]\n",
    "available_seasons = [x.replace('full_season_','').replace('.csv','') for x in available_seasons]\n",
    "seasons = [x for x in seasons if x not in available_seasons]\n",
    "seasons"
   ]
  },
  {
   "cell_type": "code",
   "execution_count": 6,
   "metadata": {},
   "outputs": [],
   "source": [
    "for season in seasons:\n",
    "    res = get_json_data(season)\n",
    "    res.to_csv(f'data/full_season_{season}.csv',index=False)"
   ]
  },
  {
   "cell_type": "code",
   "execution_count": 7,
   "metadata": {},
   "outputs": [
    {
     "data": {
      "text/plain": [
       "['1996-97',\n",
       " '1997-98',\n",
       " '1998-99',\n",
       " '1999-00',\n",
       " '2000-01',\n",
       " '2001-02',\n",
       " '2002-03',\n",
       " '2003-04',\n",
       " '2004-05',\n",
       " '2005-06',\n",
       " '2006-07',\n",
       " '2007-08',\n",
       " '2008-09',\n",
       " '2009-10',\n",
       " '2010-11',\n",
       " '2011-12',\n",
       " '2012-13',\n",
       " '2013-14',\n",
       " '2014-15',\n",
       " '2015-16',\n",
       " '2016-17',\n",
       " '2017-18',\n",
       " '2018-19',\n",
       " '2019-20',\n",
       " '2020-21',\n",
       " '2021-22',\n",
       " '2022-23',\n",
       " '2023-24']"
      ]
     },
     "execution_count": 7,
     "metadata": {},
     "output_type": "execute_result"
    }
   ],
   "source": [
    "available_seasons"
   ]
  },
  {
   "cell_type": "code",
   "execution_count": 8,
   "metadata": {},
   "outputs": [],
   "source": [
    "available_seasons = [x for x in os.listdir('data') if x.endswith('.csv')]\n",
    "all_data = []\n",
    "\n",
    "for season in available_seasons:\n",
    "    temp = pd.read_csv('data/' + season)\n",
    "    all_data.append(temp)\n",
    "all_data = pd.concat(all_data).drop_duplicates().sort_values(['SEASON_YEAR','GAME_DATE']).to_csv('data/all_box_scores.csv')"
   ]
  },
  {
   "cell_type": "code",
   "execution_count": 9,
   "metadata": {},
   "outputs": [],
   "source": [
    "all_data"
   ]
  }
 ],
 "metadata": {
  "kernelspec": {
   "display_name": "Python 3",
   "language": "python",
   "name": "python3"
  },
  "language_info": {
   "codemirror_mode": {
    "name": "ipython",
    "version": 3
   },
   "file_extension": ".py",
   "mimetype": "text/x-python",
   "name": "python",
   "nbconvert_exporter": "python",
   "pygments_lexer": "ipython3",
   "version": "3.10.11"
  }
 },
 "nbformat": 4,
 "nbformat_minor": 2
}
